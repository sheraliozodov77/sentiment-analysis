{
 "cells": [
  {
   "cell_type": "markdown",
   "metadata": {},
   "source": [
    "# Multi-class Text Sentiment Classification"
   ]
  },
  {
   "cell_type": "markdown",
   "metadata": {},
   "source": [
    "## Objective\n",
    "This notebook demonstrates the following:\n",
    "- Building a multi-class sentiment classification model using neural networks.\n",
    "- Performing exploratory data analysis (EDA) on a sentiment dataset.\n",
    "- Preprocessing text data.\n",
    "- Using pre-trained embeddings (GloVe and Word2Vec).\n",
    "- Evaluating the model using metrics such as accuracy, precision, recall, and F1 scores.\n",
    "- Providing an interactive prompt for user input to predict sentiments."
   ]
  },
  {
   "cell_type": "markdown",
   "metadata": {},
   "source": [
    "## 1. Load Libraries and Data\n",
    "Importing all necessary libraries for data analysis, preprocessing, and model building.\n"
   ]
  },
  {
   "cell_type": "code",
   "execution_count": null,
   "metadata": {},
   "outputs": [],
   "source": [
    "# General Libraries\n",
    "import pandas as pd\n",
    "import numpy as np\n",
    "import matplotlib.pyplot as plt\n",
    "import seaborn as sns\n",
    "import re\n",
    "from sklearn.metrics import classification_report, accuracy_score, precision_score, recall_score, f1_score\n",
    "from wordcloud import WordCloud\n",
    "\n",
    "# NLP Libraries\n",
    "import nltk\n",
    "from nltk.corpus import stopwords\n",
    "from nltk.tokenize import word_tokenize\n",
    "from nltk.stem import WordNetLemmatizer\n",
    "\n",
    "# TensorFlow/Keras Libraries\n",
    "import tensorflow as tf\n",
    "from tensorflow.keras.preprocessing.text import Tokenizer\n",
    "from tensorflow.keras.preprocessing.sequence import pad_sequences\n",
    "from tensorflow.keras.models import Sequential, load_model\n",
    "from tensorflow.keras.layers import Embedding, LSTM, Dense, Dropout\n",
    "from tensorflow.keras.callbacks import EarlyStopping, LearningRateScheduler, ModelCheckpoint\n",
    "from tensorflow.keras.layers import Bidirectional, Input\n",
    "from tensorflow.keras.optimizers import Adam\n",
    "\n",
    "# Word Embeddings\n",
    "from gensim.models import KeyedVectors\n",
    "# Word Embeddings\n",
    "from gensim.models import KeyedVectors\n",
    "\n",
    "# Initialize NLTK Resources\n",
    "nltk.download('punkt')\n",
    "nltk.download('wordnet')\n",
    "nltk.download('stopwords')\n"
   ]
  },
  {
   "cell_type": "markdown",
   "metadata": {},
   "source": [
    "## 2. Load and Explore Data\n",
    "Load the dataset and explore its structure."
   ]
  },
  {
   "cell_type": "code",
   "execution_count": null,
   "metadata": {},
   "outputs": [],
   "source": [
    "def load_data():\n",
    "    train_data = pd.read_csv('../Sentimental Analysis/dataset_twitter/training.csv')\n",
    "    test_data = pd.read_csv('../Sentimental Analysis/dataset_twitter/test.csv')\n",
    "    validation_data = pd.read_csv('../Sentimental Analysis/dataset_twitter/validation.csv')\n",
    "    return train_data, test_data, validation_data\n",
    "\n",
    "train_data, test_data, validation_data = load_data()\n",
    "\n",
    "# Display a sample of the training data\n",
    "train_data.head()\n"
   ]
  },
  {
   "cell_type": "markdown",
   "metadata": {},
   "source": [
    "## 3. Data Preprocessing\n",
    " - Cleaning the text data.\n",
    " - Removing irrelevant labels.\n",
    " - Mapping sentiment labels to numerical values."
   ]
  },
  {
   "cell_type": "code",
   "execution_count": null,
   "metadata": {},
   "outputs": [],
   "source": [
    "# Initialize Lemmatizer and Stopwords\n",
    "lemmatizer = WordNetLemmatizer()\n",
    "stop_words = set(stopwords.words('english'))\n",
    "\n",
    "# Contraction mapping\n",
    "CONTRACTIONS = {\n",
    "    \"n't\": \"not\",\n",
    "    \"'re\": \"are\",\n",
    "    \"'s\": \"is\",\n",
    "    \"'d\": \"would\",\n",
    "    \"'ll\": \"will\",\n",
    "    \"'t\": \"not\",\n",
    "    \"'ve\": \"have\",\n",
    "    \"'m\": \"am\"\n",
    "}\n"
   ]
  },
  {
   "cell_type": "code",
   "execution_count": null,
   "metadata": {},
   "outputs": [],
   "source": [
    "# Function to preprocess text\n",
    "def preprocess_text(text):\n",
    "    if not isinstance(text, str):\n",
    "        text = str(text)\n",
    "\n",
    "    # Convert text to lowercase\n",
    "    text = text.lower()\n",
    "\n",
    "    # Expand contractions\n",
    "    for contraction, expanded in CONTRACTIONS.items():\n",
    "        text = re.sub(rf\"{contraction}\\b\", expanded, text)\n",
    "\n",
    "    # Remove URLs, emails, non-ASCII characters, numbers, punctuation, and extra whitespaces\n",
    "    text = re.sub(r\"http\\S+|www\\S+|https\\S+\", \"\", text)\n",
    "    text = re.sub(r'\\S+@\\S+', '', text)\n",
    "    text = re.sub(r'[^\\x00-\\x7F]+', '', text)\n",
    "    text = re.sub(r'\\d+', '', text)\n",
    "    text = re.sub(r'[^\\w\\s]', '', text)\n",
    "    text = re.sub(r'\\s+', ' ', text).strip()\n",
    "\n",
    "    # Tokenize, lemmatize, and remove stopwords\n",
    "    tokenized = word_tokenize(text)\n",
    "    tokens = [lemmatizer.lemmatize(word) for word in tokenized if word not in stop_words]\n",
    "\n",
    "    return \" \".join(tokens)\n",
    "\n",
    "# Apply preprocessing\n",
    "train_data['clean_text'] = train_data['text'].apply(preprocess_text)\n",
    "test_data['clean_text'] = test_data['text'].apply(preprocess_text)\n",
    "validation_data['clean_text'] = validation_data['text'].apply(preprocess_text)\n",
    "\n",
    "# Remove irrelevant labels\n",
    "train_data = train_data[train_data['label'] != 'Irrelevant']\n",
    "validation_data = validation_data[validation_data['label'] != 'Irrelevant']"
   ]
  },
  {
   "cell_type": "code",
   "execution_count": null,
   "metadata": {},
   "outputs": [],
   "source": [
    "# Map numerical labels to sentiments\n",
    "labels_dict = {\"Positive\": 2, \"Neutral\": 1, \"Negative\": 0}\n",
    "train_data['emotion'] = train_data['label'].map(labels_dict)\n",
    "test_data['emotion'] = test_data['label'].map(labels_dict)\n",
    "validation_data['emotion'] = validation_data['label'].map(labels_dict)"
   ]
  },
  {
   "cell_type": "code",
   "execution_count": null,
   "metadata": {},
   "outputs": [],
   "source": [
    "train_data"
   ]
  },
  {
   "cell_type": "markdown",
   "metadata": {},
   "source": [
    "## 4. Exploratory Data Analysis (EDA)\n",
    "Visualize the data distribution and explore frequent words."
   ]
  },
  {
   "cell_type": "code",
   "execution_count": null,
   "metadata": {},
   "outputs": [],
   "source": [
    "from collections import Counter\n",
    "\n",
    "def eda(data):\n",
    "    \"\"\"Perform basic exploratory data analysis.\"\"\"\n",
    "    print(f\"Total records: {len(data)}\")\n",
    "    print(data['label'].value_counts())\n",
    "\n",
    "    # Word Frequency Analysis\n",
    "    all_text = \" \".join(data['clean_text'])\n",
    "    word_freq = Counter(all_text.split()).most_common(25)\n",
    "    words, counts = zip(*word_freq)\n",
    "\n",
    "    # Plot Word Frequencies\n",
    "    plt.figure(figsize=(12, 6))\n",
    "    plt.bar(words, counts, color='gray')\n",
    "    plt.title('Top 25 Most Frequent Words')\n",
    "    plt.xticks(rotation=90)\n",
    "    plt.xlabel('Words')\n",
    "    plt.ylabel('Frequency')\n",
    "    plt.grid(True, which='both', linestyle='--', linewidth=0.5, color='grey', alpha=0.7)\n",
    "    plt.tight_layout()\n",
    "    plt.show()\n",
    "\n",
    "    # Word Cloud\n",
    "    wordcloud = WordCloud(width=800, height=400, background_color='white').generate(all_text)\n",
    "    plt.figure(figsize=(10, 6))\n",
    "    plt.imshow(wordcloud, interpolation='bilinear')\n",
    "    plt.axis(\"off\")\n",
    "    plt.title(\"Word Cloud of Text Data\")\n",
    "    plt.show()\n",
    "\n",
    "# Apply EDA\n",
    "eda(train_data)\n"
   ]
  },
  {
   "cell_type": "markdown",
   "metadata": {},
   "source": [
    "## 5. Build and Train Neural Network\n"
   ]
  },
  {
   "cell_type": "markdown",
   "metadata": {},
   "source": [
    "### 5.1 TF-IDF Features\n",
    "Generate TF-IDF features from the cleaned text data."
   ]
  },
  {
   "cell_type": "code",
   "execution_count": null,
   "metadata": {},
   "outputs": [],
   "source": [
    "from sklearn.feature_extraction.text import TfidfVectorizer\n",
    "\n",
    "def compute_tfidf(train_texts, test_texts, val_texts, max_features=5000):\n",
    "    vectorizer = TfidfVectorizer(max_features=10000, stop_words='english', ngram_range=(1, 2))\n",
    "    X_train_tfidf = vectorizer.fit_transform(train_texts).toarray()\n",
    "    X_test_tfidf = vectorizer.transform(test_texts).toarray()\n",
    "    X_val_tfidf = vectorizer.transform(val_texts).toarray()\n",
    "    return X_train_tfidf, X_test_tfidf, X_val_tfidf\n",
    "\n",
    "# Apply TF-IDF\n",
    "train_texts = train_data['clean_text']\n",
    "test_texts = test_data['clean_text']\n",
    "val_texts = validation_data['clean_text']\n",
    "\n",
    "X_train_tfidf, X_test_tfidf, X_val_tfidf = compute_tfidf(train_texts, test_texts, val_texts)\n"
   ]
  },
  {
   "cell_type": "code",
   "execution_count": null,
   "metadata": {},
   "outputs": [],
   "source": [
    "# Convert labels to numerical encoding\n",
    "train_labels = train_data['emotion'].values\n",
    "validation_labels = validation_data['emotion'].values\n",
    "test_labels = test_data['emotion'].values\n"
   ]
  },
  {
   "cell_type": "markdown",
   "metadata": {},
   "source": [
    "### 5.2 Build and Train Dense Model"
   ]
  },
  {
   "cell_type": "code",
   "execution_count": null,
   "metadata": {},
   "outputs": [],
   "source": [
    "def build_dense_model(input_dim, num_classes):\n",
    "    model = Sequential([\n",
    "        Input(shape=(input_dim,)),\n",
    "        Dense(512, activation='relu'),\n",
    "        Dropout(0.5),\n",
    "        Dense(256, activation='relu'),\n",
    "        Dropout(0.5),\n",
    "        Dense(128, activation='relu'),\n",
    "        Dropout(0.5),\n",
    "        Dense(num_classes, activation='softmax')\n",
    "    ])\n",
    "    model.compile(\n",
    "        optimizer='adam',\n",
    "        loss='sparse_categorical_crossentropy',\n",
    "        metrics=['accuracy']\n",
    "    )\n",
    "    return model\n",
    "\n",
    "# Build and Train Model\n",
    "input_dim = X_train_tfidf.shape[1]\n",
    "num_classes = len(labels_dict)\n",
    "model = build_dense_model(input_dim, num_classes)\n",
    "\n",
    "history = model.fit(\n",
    "    X_train_tfidf, train_labels,\n",
    "    validation_data=(X_val_tfidf, validation_labels),\n",
    "    epochs=5,\n",
    "    batch_size=32,\n",
    "    callbacks=[EarlyStopping(monitor='val_loss', patience=3)],\n",
    "    verbose=1\n",
    ")\n"
   ]
  },
  {
   "cell_type": "markdown",
   "metadata": {},
   "source": [
    "### 5.3 Evaluate the Model \n",
    "Evaluate performance using accuracy, precision, recall, and F1-score.\n"
   ]
  },
  {
   "cell_type": "code",
   "execution_count": null,
   "metadata": {},
   "outputs": [],
   "source": [
    "def evaluate_model(model, X_test, y_test):\n",
    "    predictions = model.predict(X_test)\n",
    "    predicted_classes = np.argmax(predictions, axis=1)\n",
    "\n",
    "    accuracy = accuracy_score(y_test, predicted_classes)\n",
    "    precision = precision_score(y_test, predicted_classes, average=\"macro\")\n",
    "    recall = recall_score(y_test, predicted_classes, average=\"macro\")\n",
    "    f1 = f1_score(y_test, predicted_classes, average=\"macro\")\n",
    "\n",
    "    print(f\"Accuracy: {accuracy:.4f}\")\n",
    "    print(f\"Precision: {precision:.4f}\")\n",
    "    print(f\"Recall: {recall:.4f}\")\n",
    "    print(f\"F1 Score: {f1:.4f}\")\n",
    "\n",
    "    # Detailed Report\n",
    "    print(\"Classification Report:\")\n",
    "    print(classification_report(y_test, predicted_classes, target_names=[\"Positive\", \"Neutral\", \"Negative\"], zero_division=0))\n",
    "\n",
    "# Evaluate\n",
    "evaluate_model(model, X_test_tfidf, test_labels)\n"
   ]
  },
  {
   "cell_type": "markdown",
   "metadata": {},
   "source": [
    "### 5.4 Using GloVe Pre-trained Embeddings"
   ]
  },
  {
   "cell_type": "code",
   "execution_count": null,
   "metadata": {},
   "outputs": [],
   "source": [
    "def load_glove_embeddings(embedding_file, embedding_dim):\n",
    "    embeddings_index = {}\n",
    "    with open(embedding_file, 'r', encoding='utf-8') as f:\n",
    "        for line in f:\n",
    "            values = line.split()\n",
    "            word = values[0]\n",
    "            vector = np.asarray(values[1:], dtype='float32')\n",
    "            embeddings_index[word] = vector\n",
    "    print(f\"Loaded {len(embeddings_index)} word vectors.\")\n",
    "    return embeddings_index\n"
   ]
  },
  {
   "cell_type": "code",
   "execution_count": null,
   "metadata": {},
   "outputs": [],
   "source": [
    "# Load GloVe Embeddings\n",
    "embedding_dim = 50\n",
    "glove_file = \"../Sentimental Analysis/glove/glove.6B.50d.txt\"\n",
    "embeddings_index = load_glove_embeddings(glove_file, embedding_dim)\n",
    "\n",
    "def create_embedding_matrix(tokenizer, embeddings_index, embedding_dim):\n",
    "    word_index = tokenizer.word_index\n",
    "    embedding_matrix = np.zeros((len(word_index) + 1, embedding_dim))\n",
    "    for word, i in word_index.items():\n",
    "        embedding_vector = embeddings_index.get(word)\n",
    "        if embedding_vector is not None:\n",
    "            embedding_matrix[i] = embedding_vector\n",
    "    return embedding_matrix\n"
   ]
  },
  {
   "cell_type": "code",
   "execution_count": null,
   "metadata": {},
   "outputs": [],
   "source": [
    "# Tokenize and Create Embedding Matrix\n",
    "max_len = 50\n",
    "vocab_size = 10000\n",
    "\n",
    "# Tokenizer\n",
    "tokenizer = Tokenizer(num_words=vocab_size, oov_token=\"<OOV>\")\n",
    "tokenizer.fit_on_texts(train_data['clean_text'])\n",
    "\n",
    "embedding_matrix = create_embedding_matrix(tokenizer, embeddings_index, embedding_dim)"
   ]
  },
  {
   "cell_type": "code",
   "execution_count": null,
   "metadata": {},
   "outputs": [],
   "source": [
    "def build_lstm_model_with_glove(vocab_size, embedding_dim, input_length, num_classes, embedding_matrix):\n",
    "    model = Sequential()\n",
    "    model.add(Embedding(input_dim=vocab_size, output_dim=embedding_dim, weights=[embedding_matrix], input_length=input_length, trainable=False))\n",
    "    model.add(LSTM(128, return_sequences=False))\n",
    "    model.add(Dropout(0.5))\n",
    "    model.add(Dense(128, activation='relu'))\n",
    "    model.add(Dropout(0.5))\n",
    "    model.add(Dense(num_classes, activation='softmax'))\n",
    "    model.compile(optimizer='adam', loss='sparse_categorical_crossentropy', metrics=['accuracy'])\n",
    "    return model\n"
   ]
  },
  {
   "cell_type": "code",
   "execution_count": null,
   "metadata": {},
   "outputs": [],
   "source": [
    "# Build LSTM Model with GloVe\n",
    "model_glove = build_lstm_model_with_glove(vocab_size, embedding_dim, max_len, num_classes, embedding_matrix)\n",
    "\n",
    "history_glove = model_glove.fit(\n",
    "    pad_sequences(tokenizer.texts_to_sequences(train_data['clean_text']), maxlen=max_len, padding='post', truncating='post'),\n",
    "    train_labels,\n",
    "    validation_data=(pad_sequences(tokenizer.texts_to_sequences(validation_data['clean_text']), maxlen=max_len, padding='post', truncating='post'), validation_labels),\n",
    "    epochs=5,\n",
    "    batch_size=32,\n",
    "    callbacks=[EarlyStopping(monitor='val_loss', patience=3)],\n",
    "    verbose=1\n",
    ")"
   ]
  },
  {
   "cell_type": "markdown",
   "metadata": {},
   "source": [
    "### 5.5 Using Word2Vec Pre-trained Embeddings"
   ]
  },
  {
   "cell_type": "code",
   "execution_count": null,
   "metadata": {},
   "outputs": [],
   "source": [
    "# Load Word2Vec Pre-trained Embeddings\n",
    "word2vec_file = \"GoogleNews-vectors-negative300.bin\"\n",
    "word2vec = KeyedVectors.load_word2vec_format(word2vec_file, binary=True)\n",
    "\n",
    "# %%\n",
    "def create_word2vec_embedding_matrix(tokenizer, word2vec):\n",
    "    word_index = tokenizer.word_index\n",
    "    embedding_dim = word2vec.vector_size\n",
    "    embedding_matrix = np.zeros((len(word_index) + 1, embedding_dim))\n",
    "    for word, i in word_index.items():\n",
    "        if word in word2vec:\n",
    "            embedding_matrix[i] = word2vec[word]\n",
    "    return embedding_matrix\n",
    "\n",
    "# Create Word2Vec Embedding Matrix\n",
    "embedding_matrix_word2vec = create_word2vec_embedding_matrix(tokenizer, word2vec)"
   ]
  },
  {
   "cell_type": "code",
   "execution_count": null,
   "metadata": {},
   "outputs": [],
   "source": [
    "# Build LSTM Model with Word2Vec\n",
    "model_word2vec = build_lstm_model_with_glove(vocab_size, word2vec.vector_size, max_len, num_classes, embedding_matrix_word2vec)\n",
    "\n",
    "history_word2vec = model_word2vec.fit(\n",
    "    pad_sequences(tokenizer.texts_to_sequences(train_data['clean_text']), maxlen=max_len, padding='post', truncating='post'),\n",
    "    train_labels,\n",
    "    validation_data=(pad_sequences(tokenizer.texts_to_sequences(validation_data['clean_text']), maxlen=max_len, padding='post', truncating='post'), validation_labels),\n",
    "    epochs=5,\n",
    "    batch_size=32,\n",
    "    callbacks=[EarlyStopping(monitor='val_loss', patience=3)],\n",
    "    verbose=1\n",
    ")"
   ]
  },
  {
   "cell_type": "markdown",
   "metadata": {},
   "source": [
    "## 6. Save and Load the Best Model\n",
    "Save the best-performing model during training and load it for future predictions.\n"
   ]
  },
  {
   "cell_type": "code",
   "execution_count": null,
   "metadata": {},
   "outputs": [],
   "source": [
    "# Define a checkpoint to save the best model\n",
    "checkpoint_path = \"best_dense_model.h5\"\n",
    "checkpoint = ModelCheckpoint(filepath=checkpoint_path, monitor='val_loss', save_best_only=True, verbose=1)\n",
    "\n",
    "# Add the checkpoint to callbacks\n",
    "callbacks = [\n",
    "    EarlyStopping(monitor='val_loss', patience=3, restore_best_weights=True),\n",
    "    checkpoint\n",
    "]\n",
    "\n",
    "# Train the dense model with the checkpoint\n",
    "model = build_dense_model(input_dim, num_classes)\n",
    "\n",
    "history = model.fit(\n",
    "    X_train_tfidf, train_labels,\n",
    "    validation_data=(X_val_tfidf, validation_labels),\n",
    "    epochs=10,\n",
    "    batch_size=32,\n",
    "    callbacks=callbacks,\n",
    "    verbose=1\n",
    ")"
   ]
  },
  {
   "cell_type": "markdown",
   "metadata": {},
   "source": [
    "### 6.1 Load the Saved Model\n"
   ]
  },
  {
   "cell_type": "code",
   "execution_count": null,
   "metadata": {},
   "outputs": [],
   "source": [
    "# Load the best saved model\n",
    "best_model = load_model(checkpoint_path)\n",
    "print(\"Best model loaded successfully.\")"
   ]
  },
  {
   "cell_type": "markdown",
   "metadata": {},
   "source": [
    "## 7. User Interaction for Predictions\n",
    "Allow users to input custom text for predictions using the saved model.\n"
   ]
  },
  {
   "cell_type": "code",
   "execution_count": null,
   "metadata": {},
   "outputs": [],
   "source": [
    "def predict_user_text(text, model, tokenizer, max_len):\n",
    "    \"\"\"Make a prediction for user input.\"\"\"\n",
    "    processed_text = preprocess_text(text)\n",
    "    sequence = tokenizer.texts_to_sequences([processed_text])\n",
    "    padded_sequence = pad_sequences(sequence, maxlen=max_len, padding='post', truncating='post')\n",
    "\n",
    "    prediction = model.predict(padded_sequence)\n",
    "    predicted_class = np.argmax(prediction, axis=1)[0]\n",
    "\n",
    "    label_map = {v: k for k, v in labels_dict.items()}\n",
    "    return label_map[predicted_class]"
   ]
  },
  {
   "cell_type": "code",
   "execution_count": null,
   "metadata": {},
   "outputs": [],
   "source": [
    "# Example usage\n",
    "while True:\n",
    "    user_input = input(\"Enter a sentence for sentiment prediction (or type 'exit' to quit): \")\n",
    "    if user_input.lower() == 'exit':\n",
    "        break\n",
    "    sentiment = predict_user_text(user_input, best_model, tokenizer, max_len)\n",
    "    print(f\"Predicted Sentiment: {sentiment}\")"
   ]
  }
 ],
 "metadata": {
  "kernelspec": {
   "display_name": "Python 3",
   "language": "python",
   "name": "python3"
  },
  "language_info": {
   "codemirror_mode": {
    "name": "ipython",
    "version": 3
   },
   "file_extension": ".py",
   "mimetype": "text/x-python",
   "name": "python",
   "nbconvert_exporter": "python",
   "pygments_lexer": "ipython3",
   "version": "3.11.5"
  }
 },
 "nbformat": 4,
 "nbformat_minor": 2
}
